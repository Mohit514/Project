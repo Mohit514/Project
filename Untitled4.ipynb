{
  "nbformat": 4,
  "nbformat_minor": 0,
  "metadata": {
    "colab": {
      "provenance": []
    },
    "kernelspec": {
      "name": "python3",
      "display_name": "Python 3"
    },
    "language_info": {
      "name": "python"
    }
  },
  "cells": [
    {
      "cell_type": "code",
      "execution_count": 3,
      "metadata": {
        "colab": {
          "base_uri": "https://localhost:8080/"
        },
        "id": "ybgA-s0-YyOK",
        "outputId": "fc25a494-6f85-4dc6-dda2-bf2090c43782"
      },
      "outputs": [
        {
          "output_type": "stream",
          "name": "stdout",
          "text": [
            "Enter a number : 5\n",
            "25\n"
          ]
        }
      ],
      "source": [
        "# Assuming you want to save the input in a file named 'input.txt'\n",
        "user_input = input(\"Enter something: \")\n",
        "\n",
        "with open('input.txt', 'w') as file:\n",
        "    file.write(user_input)\n"
      ]
    }
  ]
}